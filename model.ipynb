{
 "cells": [
  {
   "cell_type": "code",
   "execution_count": 1,
   "id": "1867b71e",
   "metadata": {},
   "outputs": [],
   "source": [
    "from pyspark.sql import SparkSession\n",
    "from pyspark.sql.functions import col,lit, udf\n",
    "from pyspark.mllib.linalg import Vectors\n",
    "from pyspark.mllib.regression import LabeledPoint\n",
    "from pyspark.ml.classification import LogisticRegression\n",
    "from pyspark.mllib.util import MLUtils\n",
    "\n",
    "from user_agent_extractor import parse_device_type, parse_browser_type, parse_browser_version"
   ]
  },
  {
   "cell_type": "code",
   "execution_count": 2,
   "id": "eb684e29",
   "metadata": {},
   "outputs": [],
   "source": [
    "def parse_device_type_function(agent):\n",
    "    return parse_device_type(agent)\n",
    "\n",
    "def parse_browser_type_function(agent):\n",
    "    return parse_browser_type(agent)\n",
    "\n",
    "def parse_browser_version_function(agent):\n",
    "    return parse_browser_version(agent)"
   ]
  },
  {
   "cell_type": "code",
   "execution_count": 3,
   "id": "2c33d5f0",
   "metadata": {},
   "outputs": [],
   "source": [
    "spark = SparkSession.builder.master(\"local[4]\").getOrCreate()"
   ]
  },
  {
   "cell_type": "code",
   "execution_count": 4,
   "id": "6e5eb06e",
   "metadata": {},
   "outputs": [],
   "source": [
    "parse_device_type_f = udf(parse_device_type_function)\n",
    "parse_browser_type_f = udf(parse_browser_type_function)\n",
    "parse_browser_version_f = udf(parse_browser_version_function)"
   ]
  },
  {
   "cell_type": "code",
   "execution_count": 5,
   "id": "ec50d0d8",
   "metadata": {},
   "outputs": [
    {
     "name": "stderr",
     "output_type": "stream",
     "text": [
      "                                                                                \r"
     ]
    }
   ],
   "source": [
    "events = (spark.read\n",
    "    .option(\"header\", \"true\")\n",
    "    .option(\"inferSchema\", \"true\")\n",
    "    .csv(\"sample_data/events.csv\")\n",
    "    .withColumn(\"DEVICE_TYPE\", parse_device_type_f(col(\"USER_AGENT\")))\n",
    "    .withColumn(\"BROWSER_TYPE\", parse_browser_type_f(col(\"USER_AGENT\")))\n",
    "    .withColumn(\"BROWSER_VERSION\", parse_browser_version_f(col(\"USER_AGENT\"))))"
   ]
  },
  {
   "cell_type": "code",
   "execution_count": 6,
   "id": "2636ddd6",
   "metadata": {},
   "outputs": [
    {
     "name": "stderr",
     "output_type": "stream",
     "text": [
      "\r",
      "[Stage 2:>                                                          (0 + 1) / 1]"
     ]
    },
    {
     "name": "stdout",
     "output_type": "stream",
     "text": [
      "+--------------------+-------------+------------+----------------+---------------+------------------+--------------------+-----------+--------------------+---------------+\n",
      "|          USER_AGENT|HOTEL_CITY_ID|SITE_COUNTRY|HOTEL_COUNTRY_ID|TIME_TO_ARRIVAL|TIME_SPENT_ON_SITE|                  ID|DEVICE_TYPE|        BROWSER_TYPE|BROWSER_VERSION|\n",
      "+--------------------+-------------+------------+----------------+---------------+------------------+--------------------+-----------+--------------------+---------------+\n",
      "|Mozilla/5.0 (Linu...|        65018|          IL|              72|             14|               292|6c1030008ddb237e1...|     Mobile|    Samsung Internet|            7.0|\n",
      "|Mozilla/5.0 (Linu...|        65018|          IL|              72|             14|               292|14ad1535c071e8246...|     Mobile|    Samsung Internet|            7.0|\n",
      "|Mozilla/5.0 (Linu...|        65018|          IL|              72|             14|               292|8c062fd9c998f9827...|     Mobile|    Samsung Internet|            7.0|\n",
      "|Mozilla/5.0 (iPho...|         null|          GB|               4|           -999|                 9|8b6eecf8e7284faca...|     Mobile|       Mobile Safari|           12.1|\n",
      "|Mozilla/5.0 (iPho...|        35796|          RU|               9|           -999|                26|99dff6c33667a9266...|     Mobile|       Mobile Safari|           12.1|\n",
      "|Mozilla/5.0 (Wind...|        35757|          SK|               9|           -999|                68|4195d0cb32f7fcd13...|   Computer|                  IE|           11.0|\n",
      "|Mozilla/5.0 (iPho...|        70707|          JP|             234|           -999|                16|c80d2b58571174c92...|     Mobile|       Mobile Safari|           12.1|\n",
      "|Mozilla/5.0 (Linu...|        65928|          IN|             106|           -999|               543|24d8a21ad95938f70...|     Mobile|       Chrome Mobile|      74.0.3729|\n",
      "|Mozilla/5.0 (Maci...|        66642|          KR|             118|             46|               196|04578cb62e3f93a95...|   Computer|              Chrome|      74.0.3729|\n",
      "|Mozilla/5.0 (Linu...|         null|          PL|              64|           -999|               404|c287c2fc1f96e573d...|     Mobile|       Chrome Mobile|      74.0.3729|\n",
      "|Mozilla/5.0 (iPho...|        11635|          JP|               8|           -999|               336|6205d997059cd5f72...|     Mobile|Mobile Safari UI/...|               |\n",
      "|Mozilla/5.0 (Linu...|        66052|          IN|             106|              9|               497|9e425a1b9787945fb...|     Mobile|       Chrome Mobile|      74.0.3729|\n",
      "|Mozilla/5.0 (Wind...|        57250|          US|               8|           -999|               185|6296be763a1ce134a...|   Computer|                Edge|       18.17763|\n",
      "|Mozilla/5.0 (Wind...|         7075|          GB|             198|           -999|                50|74edcec84f06c934e...|   Computer|                Edge|       17.17134|\n",
      "|Mozilla/5.0 (Wind...|        51801|          JP|               6|           -999|               499|7fddb5dd4d469eb6f...|   Computer|                  IE|           11.0|\n",
      "|Mozilla/5.0 (Wind...|        35897|          RU|               9|           -999|               442|41c9eccfa9a288b03...|   Computer|              Chrome|      74.0.3729|\n",
      "|Mozilla/5.0 (Linu...|        56611|          IT|               8|           -999|               252|02a1e548a648dcc06...|     Mobile|       Chrome Mobile|      74.0.3729|\n",
      "|Mozilla/5.0 (X11;...|        66224|          ID|             107|              4|               214|9f28c3b67ecf8fe07...|   Computer|             Firefox|           57.0|\n",
      "|Mozilla/5.0 (Maci...|        65304|          GR|              90|             46|               129|1d51a237aaa4f7ac7...|   Computer|              Safari|         12.1.1|\n",
      "|Mozilla/5.0 (iPho...|        62507|          BE|              24|           -999|               174|59e0f095facfc7b53...|     Mobile|       Mobile Safari|           12.1|\n",
      "+--------------------+-------------+------------+----------------+---------------+------------------+--------------------+-----------+--------------------+---------------+\n",
      "only showing top 20 rows\n",
      "\n"
     ]
    },
    {
     "name": "stderr",
     "output_type": "stream",
     "text": [
      "\r",
      "                                                                                \r"
     ]
    }
   ],
   "source": [
    "events.show()"
   ]
  },
  {
   "cell_type": "code",
   "execution_count": 7,
   "id": "ba5bf949",
   "metadata": {},
   "outputs": [
    {
     "name": "stderr",
     "output_type": "stream",
     "text": [
      "                                                                                \r"
     ]
    }
   ],
   "source": [
    "conversions = (spark.read\n",
    "    .option(\"header\", \"true\")\n",
    "    .option(\"inferSchema\", \"true\")\n",
    "    .csv(\"sample_data/conversions.csv\")\n",
    "    .withColumn(\"CONVERTED\", lit(1.0)))"
   ]
  },
  {
   "cell_type": "code",
   "execution_count": 8,
   "id": "2b2a3fd5",
   "metadata": {},
   "outputs": [
    {
     "name": "stdout",
     "output_type": "stream",
     "text": [
      "root\n",
      " |-- ID: string (nullable = true)\n",
      " |-- USER_AGENT: string (nullable = true)\n",
      " |-- HOTEL_CITY_ID: integer (nullable = true)\n",
      " |-- SITE_COUNTRY: string (nullable = true)\n",
      " |-- HOTEL_COUNTRY_ID: integer (nullable = true)\n",
      " |-- TIME_TO_ARRIVAL: integer (nullable = true)\n",
      " |-- TIME_SPENT_ON_SITE: integer (nullable = true)\n",
      " |-- DEVICE_TYPE: string (nullable = true)\n",
      " |-- BROWSER_TYPE: string (nullable = true)\n",
      " |-- BROWSER_VERSION: string (nullable = true)\n",
      " |-- CONVERTED: double (nullable = true)\n",
      "\n"
     ]
    },
    {
     "name": "stderr",
     "output_type": "stream",
     "text": [
      "[Stage 6:============================================>              (3 + 1) / 4]"
     ]
    },
    {
     "name": "stdout",
     "output_type": "stream",
     "text": [
      "+--------------------+--------------------+-------------+------------+----------------+---------------+------------------+-----------+-------------+---------------+---------+\n",
      "|                  ID|          USER_AGENT|HOTEL_CITY_ID|SITE_COUNTRY|HOTEL_COUNTRY_ID|TIME_TO_ARRIVAL|TIME_SPENT_ON_SITE|DEVICE_TYPE| BROWSER_TYPE|BROWSER_VERSION|CONVERTED|\n",
      "+--------------------+--------------------+-------------+------------+----------------+---------------+------------------+-----------+-------------+---------------+---------+\n",
      "|0030d576a174e5cbd...|Mozilla/5.0 (Linu...|        11635|          IT|               8|           -999|               527|     Mobile|Chrome Mobile|      74.0.3729|     null|\n",
      "|00d48f83ffd53d695...|Mozilla/5.0 (X11;...|        68550|          GB|             178|           -999|                45|   Computer|       Chrome|      74.0.3729|     null|\n",
      "|00e6b9e26f77f81dd...|Mozilla/5.0 (iPho...|        40075|          US|               1|              1|               474|     Mobile|Mobile Safari|           12.1|     null|\n",
      "|00f34084deb5136ea...|Mozilla/5.0 (iPad...|        57676|          BR|               8|           -999|               527|     Tablet|Mobile Safari|           12.1|      1.0|\n",
      "|00f34084deb5136ea...|Mozilla/5.0 (iPad...|        57676|          BR|               8|           -999|               527|     Tablet|Mobile Safari|           12.1|      1.0|\n",
      "|010680d09bd721b8c...|Mozilla/5.0 (Maci...|        56359|          US|               8|           -999|               377|   Computer|       Safari|         12.1.1|      1.0|\n",
      "|010680d09bd721b8c...|Mozilla/5.0 (Maci...|        56359|          US|               8|           -999|               377|   Computer|       Safari|         12.1.1|      1.0|\n",
      "|010680d09bd721b8c...|Mozilla/5.0 (Maci...|        35449|          US|               2|           -999|                22|   Computer|       Safari|         12.1.1|      1.0|\n",
      "|010680d09bd721b8c...|Mozilla/5.0 (Maci...|        35449|          US|               2|           -999|                22|   Computer|       Safari|         12.1.1|      1.0|\n",
      "|011c6472157bc1b1c...|Mozilla/5.0 (X11;...|        34917|          US|               1|           -999|               182|   Computer|       Chrome|      41.0.2227|     null|\n",
      "|0151348b0e6325420...|Mozilla/5.0 (Linu...|         null|          RU|             222|           -999|               448|     Mobile|Chrome Mobile|      62.0.3202|     null|\n",
      "|016423dda78a49bdf...|Mozilla/5.0 (Wind...|        66117|          IN|             106|             10|               278|   Computer|       Chrome|      74.0.3729|     null|\n",
      "|01ccafdc0d9f91161...|Mozilla/5.0 (Linu...|        35768|          TH|             216|           -999|               499|     Mobile|     Facebook|        222.0.0|     null|\n",
      "|01d720ff153bfe213...|Mozilla/5.0 (Linu...|        35091|          IL|             111|             88|               576|     Mobile|Chrome Mobile|      74.0.3729|      1.0|\n",
      "|01d720ff153bfe213...|Mozilla/5.0 (Linu...|        35091|          IL|             111|             88|               576|     Mobile|Chrome Mobile|      74.0.3729|      1.0|\n",
      "|01efeff580fc6b296...|Mozilla/5.0 (Wind...|          103|          AU|               1|           -999|               345|   Computer|           IE|           11.0|     null|\n",
      "|01f9715d06f1a768d...|Mozilla/5.0 (Wind...|        35702|          GB|               9|           -999|                15|   Computer|       Chrome|      74.0.3729|     null|\n",
      "|023059886d667fe09...|Mozilla/5.0 (Wind...|          137|          US|               1|           -999|               210|   Computer|         Edge|       17.17134|     null|\n",
      "|025731ca112b9dbf5...|Mozilla/5.0 (X11;...|        58197|          ES|               9|             11|               565|   Computer|       Chrome|      63.0.3239|     null|\n",
      "|027c2f2da59897873...|Mozilla/5.0 (iPho...|        36278|          BE|               9|           -999|               598|     Mobile|Mobile Safari|           12.1|     null|\n",
      "+--------------------+--------------------+-------------+------------+----------------+---------------+------------------+-----------+-------------+---------------+---------+\n",
      "only showing top 20 rows\n",
      "\n"
     ]
    },
    {
     "name": "stderr",
     "output_type": "stream",
     "text": [
      "\r",
      "                                                                                \r"
     ]
    }
   ],
   "source": [
    "labeled_events = events.join(conversions, \"ID\", \"left\")\n",
    "\n",
    "labeled_events.printSchema()\n",
    "labeled_events.show()"
   ]
  },
  {
   "cell_type": "code",
   "execution_count": 10,
   "id": "b829bcf8",
   "metadata": {},
   "outputs": [],
   "source": [
    "as_double = (lambda v: float(v) if v is not None else 0.0)"
   ]
  },
  {
   "cell_type": "code",
   "execution_count": 11,
   "id": "05f9d8fe",
   "metadata": {},
   "outputs": [
    {
     "name": "stderr",
     "output_type": "stream",
     "text": [
      "                                                                                \r"
     ]
    }
   ],
   "source": [
    "featureData = (labeled_events.rdd.map(lambda r: LabeledPoint(\n",
    "          as_double(r[\"CONVERTED\"]),\n",
    "          Vectors.dense(\n",
    "              as_double(r[\"HOTEL_CITY_ID\"]),\n",
    "              as_double(r[\"TIME_TO_ARRIVAL\"]),\n",
    "              as_double(r[\"TIME_SPENT_ON_SITE\"]))))).toDF()"
   ]
  },
  {
   "cell_type": "code",
   "execution_count": 12,
   "id": "f7a4948e",
   "metadata": {},
   "outputs": [
    {
     "name": "stderr",
     "output_type": "stream",
     "text": [
      "21/08/11 16:10:52 WARN MLUtils: Vector column conversion has serialization overhead. Please migrate your datasets and workflows to use the spark.ml package.\n"
     ]
    }
   ],
   "source": [
    "training_and_test_data = MLUtils.convertVectorColumnsToML(featureData).randomSplit([0.7, 0.3])\n"
   ]
  },
  {
   "cell_type": "code",
   "execution_count": 13,
   "id": "6de65404",
   "metadata": {},
   "outputs": [],
   "source": [
    "lr = LogisticRegression(probabilityCol = \"probability\")\n"
   ]
  },
  {
   "cell_type": "code",
   "execution_count": 14,
   "id": "6d9659ee",
   "metadata": {},
   "outputs": [
    {
     "name": "stderr",
     "output_type": "stream",
     "text": [
      "21/08/11 16:11:39 WARN BLAS: Failed to load implementation from: com.github.fommil.netlib.NativeSystemBLAS\n",
      "21/08/11 16:11:39 WARN BLAS: Failed to load implementation from: com.github.fommil.netlib.NativeRefBLAS\n",
      "                                                                                \r"
     ]
    }
   ],
   "source": [
    "model = lr.fit(training_and_test_data[0])\n"
   ]
  },
  {
   "cell_type": "code",
   "execution_count": 15,
   "id": "5538ac1f",
   "metadata": {},
   "outputs": [
    {
     "name": "stderr",
     "output_type": "stream",
     "text": [
      "                                                                                \r"
     ]
    }
   ],
   "source": [
    "auc = model.summary.areaUnderROC\n"
   ]
  },
  {
   "cell_type": "code",
   "execution_count": 16,
   "id": "03d5fd1f",
   "metadata": {},
   "outputs": [
    {
     "name": "stdout",
     "output_type": "stream",
     "text": [
      "Training AUC: 0.8101708481920293\n"
     ]
    }
   ],
   "source": [
    "print('Training AUC: ' + str(auc))\n"
   ]
  },
  {
   "cell_type": "code",
   "execution_count": 17,
   "id": "96847134",
   "metadata": {},
   "outputs": [
    {
     "name": "stdout",
     "output_type": "stream",
     "text": [
      "+------------------+-----+--------------------+\n",
      "|          features|label|         probability|\n",
      "+------------------+-----+--------------------+\n",
      "|  [0.0,-999.0,0.0]|  0.0|[0.88017451639178...|\n",
      "|  [0.0,-999.0,0.0]|  0.0|[0.88017451639178...|\n",
      "|  [0.0,-999.0,4.0]|  0.0|[0.88024394765198...|\n",
      "|  [0.0,-999.0,4.0]|  1.0|[0.88024394765198...|\n",
      "|  [0.0,-999.0,9.0]|  0.0|[0.88033068784675...|\n",
      "| [0.0,-999.0,18.0]|  0.0|[0.88048668339736...|\n",
      "| [0.0,-999.0,24.0]|  0.0|[0.88059058276873...|\n",
      "| [0.0,-999.0,40.0]|  1.0|[0.88086726610550...|\n",
      "| [0.0,-999.0,45.0]|  0.0|[0.88095361588460...|\n",
      "| [0.0,-999.0,54.0]|  0.0|[0.88110890907983...|\n",
      "| [0.0,-999.0,59.0]|  0.0|[0.88119510733391...|\n",
      "| [0.0,-999.0,60.0]|  0.0|[0.88121234049504...|\n",
      "| [0.0,-999.0,61.0]|  0.0|[0.88122957149336...|\n",
      "| [0.0,-999.0,63.0]|  0.0|[0.88126402700223...|\n",
      "| [0.0,-999.0,65.0]|  0.0|[0.88129847386191...|\n",
      "| [0.0,-999.0,77.0]|  1.0|[0.88150497346468...|\n",
      "| [0.0,-999.0,77.0]|  1.0|[0.88150497346468...|\n",
      "| [0.0,-999.0,78.0]|  0.0|[0.88152216772164...|\n",
      "| [0.0,-999.0,84.0]|  0.0|[0.88162528791598...|\n",
      "|[0.0,-999.0,100.0]|  0.0|[0.88189989528108...|\n",
      "+------------------+-----+--------------------+\n",
      "only showing top 20 rows\n",
      "\n"
     ]
    }
   ],
   "source": [
    "test = model.transform(training_and_test_data[1])\n",
    "test.select(\"features\", \"label\", \"probability\").show()"
   ]
  },
  {
   "cell_type": "code",
   "execution_count": null,
   "id": "122f5c7e",
   "metadata": {},
   "outputs": [],
   "source": []
  }
 ],
 "metadata": {
  "kernelspec": {
   "display_name": "Python 3 (ipykernel)",
   "language": "python",
   "name": "python3"
  },
  "language_info": {
   "codemirror_mode": {
    "name": "ipython",
    "version": 3
   },
   "file_extension": ".py",
   "mimetype": "text/x-python",
   "name": "python",
   "nbconvert_exporter": "python",
   "pygments_lexer": "ipython3",
   "version": "3.7.11"
  }
 },
 "nbformat": 4,
 "nbformat_minor": 5
}
